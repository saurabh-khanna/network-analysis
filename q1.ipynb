{
 "cells": [
  {
   "cell_type": "code",
   "execution_count": 1,
   "metadata": {},
   "outputs": [],
   "source": [
    "import snap\n",
    "import networkx as nx\n",
    "import matplotlib.pyplot as plt\n",
    "import numpy as np\n",
    "import random"
   ]
  },
  {
   "cell_type": "code",
   "execution_count": 2,
   "metadata": {},
   "outputs": [],
   "source": [
    "# Setup\n",
    "erdosRenyi = None\n",
    "smallWorld = None\n",
    "collabNet = None"
   ]
  },
  {
   "cell_type": "code",
   "execution_count": 3,
   "metadata": {},
   "outputs": [],
   "source": [
    "# Problem 1.1\n",
    "def genErdosRenyi(N=5242, E=14484):\n",
    "    \"\"\"\n",
    "    :param - N: number of nodes\n",
    "    :param - E: number of edges\n",
    "\n",
    "    return type: snap.PUNGraph\n",
    "    return: Erdos-Renyi graph with N nodes and E edges\n",
    "    \"\"\"\n",
    "    ############################################################################\n",
    "    # TODO: Your code here!\n",
    "    Graph = nx.Graph()\n",
    "    Graph.add_nodes_from(range(0, N))\n",
    "    node_list = list(Graph)\n",
    "    n_edges = 0\n",
    "    while n_edges < E:\n",
    "        node1 = random.choice(node_list)\n",
    "        node2 = random.choice(node_list)\n",
    "        if not(node1 == node2 or Graph.has_edge(node1, node2)):\n",
    "            Graph.add_edge(node1, node2)\n",
    "            n_edges += 1\n",
    "    #############################################################################\n",
    "    return Graph"
   ]
  },
  {
   "cell_type": "code",
   "execution_count": 4,
   "metadata": {},
   "outputs": [
    {
     "data": {
      "text/plain": [
       "'Name: \\nType: Graph\\nNumber of nodes: 5242\\nNumber of edges: 14484\\nAverage degree:   5.5261'"
      ]
     },
     "execution_count": 4,
     "metadata": {},
     "output_type": "execute_result"
    }
   ],
   "source": [
    "# checking above function\n",
    "g_er = genErdosRenyi()\n",
    "nx.info(g_er)"
   ]
  },
  {
   "cell_type": "code",
   "execution_count": 5,
   "metadata": {},
   "outputs": [],
   "source": [
    "def genCircle(N=5242):\n",
    "    \"\"\"\n",
    "    :param - N: number of nodes\n",
    "\n",
    "    return type: snap.PUNGraph\n",
    "    return: Circle graph with N nodes and N edges. Imagine the nodes form a\n",
    "        circle and each node is connected to its two direct neighbors.\n",
    "    \"\"\"\n",
    "    ############################################################################\n",
    "    # TODO: Your code here!\n",
    "    Graph = nx.Graph()\n",
    "    Graph.add_nodes_from(range(0, N))\n",
    "    node_list = list(Graph)\n",
    "    for i in node_list:\n",
    "        if not(Graph.has_edge(i, i + 1)) and (i + 1 < N):\n",
    "            Graph.add_edge(i, i + 1)\n",
    "        elif not(Graph.has_edge(i, i + 1)) and (i + 1 == N):\n",
    "            Graph.add_edge(i, 0)\n",
    "    ############################################################################\n",
    "    return Graph"
   ]
  },
  {
   "cell_type": "code",
   "execution_count": 6,
   "metadata": {},
   "outputs": [
    {
     "data": {
      "text/plain": [
       "'Name: \\nType: Graph\\nNumber of nodes: 5242\\nNumber of edges: 5242\\nAverage degree:   2.0000'"
      ]
     },
     "execution_count": 6,
     "metadata": {},
     "output_type": "execute_result"
    }
   ],
   "source": [
    "g_cir = genCircle()\n",
    "nx.info(g_cir)"
   ]
  },
  {
   "cell_type": "code",
   "execution_count": 7,
   "metadata": {},
   "outputs": [],
   "source": [
    "def connectNbrOfNbr(Graph, N=5242):\n",
    "    \"\"\"\n",
    "    :param - Graph: snap.PUNGraph object representing a circle graph on N nodes\n",
    "    :param - N: number of nodes\n",
    "\n",
    "    return type: snap.PUNGraph\n",
    "    return: Graph object with additional N edges added by connecting each node\n",
    "        to the neighbors of its neighbors\n",
    "    \"\"\"\n",
    "    ############################################################################\n",
    "    # TODO: Your code here!\n",
    "    node_list = list(Graph)\n",
    "    for i in node_list:\n",
    "        if not(Graph.has_edge(i, i + 2)) and (i < (N - 2)):\n",
    "            Graph.add_edge(i, i + 2)\n",
    "        if not(Graph.has_edge(i, i + 2)) and (i == (N - 2)):\n",
    "            Graph.add_edge(i, 0)\n",
    "        if not(Graph.has_edge(i, i + 2)) and (i == (N - 1)):\n",
    "            Graph.add_edge(i, 1)\n",
    "    ############################################################################\n",
    "    return Graph"
   ]
  },
  {
   "cell_type": "code",
   "execution_count": 8,
   "metadata": {},
   "outputs": [
    {
     "data": {
      "text/plain": [
       "'Name: \\nType: Graph\\nNumber of nodes: 5242\\nNumber of edges: 10484\\nAverage degree:   4.0000'"
      ]
     },
     "execution_count": 8,
     "metadata": {},
     "output_type": "execute_result"
    }
   ],
   "source": [
    "g_nbnb = connectNbrOfNbr(g_cir)\n",
    "#nx.draw_circular(g_nbnb, with_labels=True, font_weight='bold')\n",
    "nx.info(g_nbnb)"
   ]
  },
  {
   "cell_type": "code",
   "execution_count": 9,
   "metadata": {},
   "outputs": [],
   "source": [
    "def connectRandomNodes(Graph, M=4000):\n",
    "    \"\"\"\n",
    "    :param - Graph: snap.PUNGraph object representing an undirected graph\n",
    "    :param - M: number of edges to be added\n",
    "\n",
    "    return type: snap.PUNGraph\n",
    "    return: Graph object with additional M edges added by connecting M randomly\n",
    "        selected pairs of nodes not already connected.\n",
    "    \"\"\"\n",
    "    ############################################################################\n",
    "    # TODO: Your code here!\n",
    "    node_list = list(Graph)\n",
    "    n_edges = 0\n",
    "    while n_edges < M:\n",
    "        node1 = random.choice(node_list)\n",
    "        node2 = random.choice(node_list)\n",
    "        if not(node1 == node2 or Graph.has_edge(node1, node2)):\n",
    "            Graph.add_edge(node1, node2)\n",
    "            n_edges += 1\n",
    "    ############################################################################\n",
    "    return Graph"
   ]
  },
  {
   "cell_type": "code",
   "execution_count": 10,
   "metadata": {},
   "outputs": [],
   "source": [
    "def genSmallWorld(N=5242, E=14484):\n",
    "    \"\"\"\n",
    "    :param - N: number of nodes\n",
    "    :param - E: number of edges\n",
    "\n",
    "    return type: snap.PUNGraph\n",
    "    return: Small-World graph with N nodes and E edges\n",
    "    \"\"\"\n",
    "    Graph = genCircle(N)\n",
    "    Graph = connectNbrOfNbr(Graph, N)\n",
    "    Graph = connectRandomNodes(Graph, 4000)\n",
    "    return Graph"
   ]
  },
  {
   "cell_type": "code",
   "execution_count": 11,
   "metadata": {},
   "outputs": [],
   "source": [
    "def loadCollabNet(path):\n",
    "    \"\"\"\n",
    "    :param - path: path to edge list file\n",
    "\n",
    "    return type: snap.PUNGraph\n",
    "    return: Graph loaded from edge list at `path and self edges removed\n",
    "\n",
    "    Do not forget to remove the self edges!\n",
    "    \"\"\"\n",
    "    ############################################################################\n",
    "    # TODO: Your code here!\n",
    "    Graph = nx.read_edgelist(\"CA-GrQc.txt\",create_using=nx.DiGraph(), nodetype = int)\n",
    "    Graph = Graph.to_undirected()\n",
    "    node_list = list(Graph) \n",
    "    for i in node_list:\n",
    "        if Graph.has_edge(i, i):\n",
    "            Graph.remove_edge(i, i)\n",
    "    ############################################################################\n",
    "    return Graph"
   ]
  },
  {
   "cell_type": "code",
   "execution_count": 12,
   "metadata": {},
   "outputs": [
    {
     "data": {
      "text/plain": [
       "'Name: \\nType: Graph\\nNumber of nodes: 5242\\nNumber of edges: 14484\\nAverage degree:   5.5261'"
      ]
     },
     "execution_count": 12,
     "metadata": {},
     "output_type": "execute_result"
    }
   ],
   "source": [
    "g_colab = loadCollabNet(\"\")\n",
    "nx.info(g_colab)"
   ]
  },
  {
   "cell_type": "code",
   "execution_count": 13,
   "metadata": {},
   "outputs": [
    {
     "data": {
      "text/plain": [
       "0"
      ]
     },
     "execution_count": 13,
     "metadata": {},
     "output_type": "execute_result"
    }
   ],
   "source": [
    "g_colab.number_of_selfloops()"
   ]
  },
  {
   "cell_type": "code",
   "execution_count": 14,
   "metadata": {},
   "outputs": [],
   "source": [
    "def getDataPointsToPlot(Graph):\n",
    "    \"\"\"\n",
    "    :param - Graph: snap.PUNGraph object representing an undirected graph\n",
    "\n",
    "    return values:\n",
    "    X: list of degrees\n",
    "    Y: list of frequencies: Y[i] = fraction of nodes with degree X[i]\n",
    "    \"\"\"\n",
    "    ############################################################################\n",
    "    # TODO: Your code here!\n",
    "    X_temp = [degree for (node, degree) in Graph.degree()]\n",
    "    X = [] \n",
    "    [X.append(i) for i in X_temp if i not in X]\n",
    "    X = sorted(X)\n",
    "    \n",
    "    Y_temp = nx.degree_histogram(Graph)\n",
    "    Y = []\n",
    "    [Y.append(i) for i in Y_temp if i != 0]\n",
    "    ############################################################################\n",
    "    return X, Y"
   ]
  },
  {
   "cell_type": "code",
   "execution_count": 15,
   "metadata": {},
   "outputs": [
    {
     "data": {
      "image/png": "[encoded data removed]",
      "text/plain": [
       "<Figure size 432x288 with 1 Axes>"
      ]
     },
     "metadata": {
      "needs_background": "light"
     },
     "output_type": "display_data"
    }
   ],
   "source": [
    "def Q1_1():\n",
    "    \"\"\"\n",
    "    Code for HW1 Q1.1\n",
    "    \"\"\"\n",
    "    global erdosRenyi, smallWorld, collabNet\n",
    "    erdosRenyi = genErdosRenyi(5242, 14484)\n",
    "    smallWorld = genSmallWorld(5242, 14484)\n",
    "    collabNet = loadCollabNet(\"ca-GrQc.txt\")\n",
    "\n",
    "    x_erdosRenyi, y_erdosRenyi = getDataPointsToPlot(erdosRenyi)\n",
    "    plt.loglog(x_erdosRenyi, y_erdosRenyi, color = 'y', label = 'Erdos Renyi Network')\n",
    "\n",
    "    x_smallWorld, y_smallWorld = getDataPointsToPlot(smallWorld)\n",
    "    plt.loglog(x_smallWorld, y_smallWorld, linestyle = 'dashed', color = 'r', label = 'Small World Network')\n",
    "\n",
    "    x_collabNet, y_collabNet = getDataPointsToPlot(collabNet)\n",
    "    plt.loglog(x_collabNet, y_collabNet, linestyle = 'dotted', color = 'b', label = 'Collaboration Network')\n",
    "\n",
    "    plt.xlabel('Node Degree (log)')\n",
    "    plt.ylabel('Proportion of Nodes with a Given Degree (log)')\n",
    "    plt.title('Degree Distribution of Erdos Renyi, Small World, and Collaboration Networks')\n",
    "    plt.legend()\n",
    "    plt.show()\n",
    "\n",
    "\n",
    "# Execute code for Q1.1\n",
    "Q1_1()"
   ]
  },
  {
   "cell_type": "code",
   "execution_count": 16,
   "metadata": {},
   "outputs": [],
   "source": [
    "def calcClusteringCoefficientSingleNode(Node, Graph):\n",
    "    \"\"\"\n",
    "    :param - Node: node from snap.PUNGraph object. Graph.Nodes() will give an\n",
    "                   iterable of nodes in a graph\n",
    "    :param - Graph: snap.PUNGraph object representing an undirected graph\n",
    "\n",
    "    return type: float\n",
    "    returns: local clustering coeffient of Node\n",
    "    \"\"\"\n",
    "    ############################################################################\n",
    "    # TODO: Your code here!\n",
    "    C = 0.0\n",
    "    neighbors = [n for n in Graph.neighbors(Node)]\n",
    "    if len(neighbors) < 2: \n",
    "        return 0.0\n",
    "    edges = 0\n",
    "    for ngb1 in neighbors:\n",
    "        for ngb2 in neighbors:\n",
    "            if ngb1 in Graph[ngb2]: \n",
    "                edges += 0.5\n",
    "    C = (2.0 * edges) / (len(neighbors) * (len(neighbors) - 1))\n",
    "    ############################################################################\n",
    "    return C"
   ]
  },
  {
   "cell_type": "code",
   "execution_count": 17,
   "metadata": {},
   "outputs": [],
   "source": [
    "def calcClusteringCoefficient(Graph):\n",
    "    \"\"\"\n",
    "    :param - Graph: snap.PUNGraph object representing an undirected graph\n",
    "\n",
    "    return type: float\n",
    "    returns: clustering coeffient of Graph\n",
    "    \"\"\"\n",
    "    ############################################################################\n",
    "    # TODO: Your code here! If you filled out calcClusteringCoefficientSingleNode,\n",
    "    #       you'll probably want to call it in a loop here\n",
    "    C = 0.0\n",
    "    clustering_sum = 0\n",
    "    for node in Graph:\n",
    "        clustering_sum += calcClusteringCoefficientSingleNode(node, Graph)\n",
    "    C = clustering_sum/Graph.number_of_nodes()\n",
    "    ############################################################################\n",
    "    return C"
   ]
  },
  {
   "cell_type": "code",
   "execution_count": 18,
   "metadata": {},
   "outputs": [
    {
     "name": "stdout",
     "output_type": "stream",
     "text": [
      "Clustering Coefficient for Erdos Renyi Network: 0.000858\n",
      "Clustering Coefficient for Small World Network: 0.283156\n",
      "Clustering Coefficient for Collaboration Network: 0.529636\n"
     ]
    }
   ],
   "source": [
    "def Q1_2():\n",
    "    \"\"\"\n",
    "    Code for Q1.2\n",
    "    \"\"\"\n",
    "    C_erdosRenyi = calcClusteringCoefficient(erdosRenyi)\n",
    "    C_smallWorld = calcClusteringCoefficient(smallWorld)\n",
    "    C_collabNet = calcClusteringCoefficient(collabNet)\n",
    "\n",
    "    print('Clustering Coefficient for Erdos Renyi Network: %f' % C_erdosRenyi)\n",
    "    print('Clustering Coefficient for Small World Network: %f' % C_smallWorld)\n",
    "    print('Clustering Coefficient for Collaboration Network: %f' % C_collabNet)\n",
    "\n",
    "# Execute code for Q1.2\n",
    "Q1_2()"
   ]
  }
 ],
 "metadata": {
  "kernelspec": {
   "display_name": "Python 3",
   "language": "python",
   "name": "python3"
  },
  "language_info": {
   "codemirror_mode": {
    "name": "ipython",
    "version": 3
   },
   "file_extension": ".py",
   "mimetype": "text/x-python",
   "name": "python",
   "nbconvert_exporter": "python",
   "pygments_lexer": "ipython3",
   "version": "3.7.5"
  }
 },
 "nbformat": 4,
 "nbformat_minor": 4
}
