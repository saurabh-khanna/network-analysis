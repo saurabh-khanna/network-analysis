{
 "cells": [
  {
   "cell_type": "code",
   "execution_count": 2,
   "metadata": {},
   "outputs": [],
   "source": [
    "import snap\n",
    "import networkx as nx\n",
    "import matplotlib.pyplot as plt\n",
    "import numpy as np\n",
    "from numpy.linalg import norm"
   ]
  },
  {
   "cell_type": "code",
   "execution_count": 4,
   "metadata": {},
   "outputs": [],
   "source": [
    "Graph = nx.read_gml('netscience.gml', label = 'id')"
   ]
  },
  {
   "cell_type": "code",
   "execution_count": 5,
   "metadata": {},
   "outputs": [],
   "source": [
    "Graph.nodes()\n",
    "node_list = list(Graph)"
   ]
  },
  {
   "cell_type": "code",
   "execution_count": 6,
   "metadata": {},
   "outputs": [],
   "source": [
    "def ego_graph_edges(Graph, node):\n",
    "    Ego_graph = nx.ego_graph(Graph, node, undirected = True)\n",
    "    return Ego_graph.number_of_edges()"
   ]
  },
  {
   "cell_type": "code",
   "execution_count": 7,
   "metadata": {},
   "outputs": [],
   "source": [
    "def ego_graph_degree(Graph, node):\n",
    "    Ego_graph = nx.ego_graph(Graph, node, undirected = True)\n",
    "    ego_nodes = list(Ego_graph)\n",
    "    out_degrees = 0\n",
    "    ego_degrees = 0\n",
    "    for node in ego_nodes:\n",
    "        out_degrees += Graph.degree[node]\n",
    "        ego_degrees += Ego_graph.degree[node]\n",
    "    return (out_degrees - ego_degrees)"
   ]
  },
  {
   "cell_type": "code",
   "execution_count": 8,
   "metadata": {},
   "outputs": [],
   "source": [
    "def similarity(x, y, node):\n",
    "    if norm(x) == 0 or norm(y) == 0:\n",
    "        return (0, node)\n",
    "    sim = np.inner(x, y)/(norm(x) * norm(y))\n",
    "    return (sim, node)"
   ]
  },
  {
   "cell_type": "code",
   "execution_count": 9,
   "metadata": {},
   "outputs": [
    {
     "name": "stdout",
     "output_type": "stream",
     "text": [
      "[[ 2  3  1]\n",
      " [ 3  4  0]\n",
      " [ 4 10  0]\n",
      " ...\n",
      " [ 1  1  1]\n",
      " [ 1  1  1]\n",
      " [ 2  3 10]]\n"
     ]
    }
   ],
   "source": [
    "feature_matrix = np.zeros([1589,3], dtype = int)\n",
    "for node in node_list:\n",
    "    feature_matrix[node][0] = Graph.degree(node)\n",
    "    feature_matrix[node][1] = ego_graph_edges(Graph, node)\n",
    "    feature_matrix[node][2] = ego_graph_degree(Graph, node)\n",
    "print(feature_matrix)"
   ]
  },
  {
   "cell_type": "code",
   "execution_count": 10,
   "metadata": {},
   "outputs": [
    {
     "data": {
      "text/plain": [
       "array([ 6, 10,  1])"
      ]
     },
     "execution_count": 10,
     "metadata": {},
     "output_type": "execute_result"
    }
   ],
   "source": [
    "feature_matrix[9]"
   ]
  },
  {
   "cell_type": "code",
   "execution_count": 8,
   "metadata": {},
   "outputs": [
    {
     "name": "stdout",
     "output_type": "stream",
     "text": [
      "[(0.9996157540684272, 415), (0.996343680627828, 288), (0.996343680627828, 286), (0.9961182380000687, 1336), (0.9961182380000687, 1054)]\n"
     ]
    }
   ],
   "source": [
    "sim_list = []\n",
    "for node in node_list:\n",
    "    if node != 9:\n",
    "        sim_list.append(similarity(feature_matrix[9], feature_matrix[node], node))\n",
    "sim_list = sorted(sim_list, reverse = True)\n",
    "print(sim_list[0:5])\n",
    "#415, 288, 286, 1336, 1054"
   ]
  },
  {
   "cell_type": "code",
   "execution_count": 9,
   "metadata": {},
   "outputs": [
    {
     "name": "stdout",
     "output_type": "stream",
     "text": [
      "[[ 5  7  1]\n",
      " [ 5  7  4]\n",
      " [16 40  0]\n",
      " ...\n",
      " [ 2  2  0]\n",
      " [ 2  2  0]\n",
      " [14 27 12]]\n"
     ]
    }
   ],
   "source": [
    "feature_matrix_sum = np.zeros([1589,3], dtype = int)\n",
    "for node in node_list:\n",
    "    for ngb in Graph.neighbors(node):\n",
    "        feature_matrix_sum[node] += feature_matrix[ngb]\n",
    "print(feature_matrix_sum)"
   ]
  },
  {
   "cell_type": "code",
   "execution_count": 10,
   "metadata": {},
   "outputs": [
    {
     "name": "stdout",
     "output_type": "stream",
     "text": [
      "[[ 2.5         3.5         0.5       ]\n",
      " [ 1.66666667  2.33333333  1.33333333]\n",
      " [ 4.         10.          0.        ]\n",
      " ...\n",
      " [ 2.          2.          0.        ]\n",
      " [ 2.          2.          0.        ]\n",
      " [ 7.         13.5         6.        ]]\n"
     ]
    }
   ],
   "source": [
    "feature_matrix_mean = np.zeros([1589,3], dtype = float)\n",
    "for node in node_list:\n",
    "    for ngb in Graph.neighbors(node):\n",
    "        feature_matrix_mean[node] += feature_matrix[ngb]\n",
    "    if Graph.degree(node) == 0:\n",
    "        feature_matrix_mean[node] = 0\n",
    "    else:\n",
    "        feature_matrix_mean[node] = feature_matrix_mean[node]/Graph.degree(node)\n",
    "print(feature_matrix_mean)"
   ]
  },
  {
   "cell_type": "code",
   "execution_count": 11,
   "metadata": {},
   "outputs": [],
   "source": [
    "iter1 = np.hstack((feature_matrix, feature_matrix_mean, feature_matrix_sum))"
   ]
  },
  {
   "cell_type": "code",
   "execution_count": 12,
   "metadata": {},
   "outputs": [
    {
     "data": {
      "text/plain": [
       "array([[ 2.,  3.,  1., ...,  5.,  7.,  1.],\n",
       "       [ 3.,  4.,  0., ...,  5.,  7.,  4.],\n",
       "       [ 4., 10.,  0., ..., 16., 40.,  0.],\n",
       "       ...,\n",
       "       [ 1.,  1.,  1., ...,  2.,  2.,  0.],\n",
       "       [ 1.,  1.,  1., ...,  2.,  2.,  0.],\n",
       "       [ 2.,  3., 10., ..., 14., 27., 12.]])"
      ]
     },
     "execution_count": 12,
     "metadata": {},
     "output_type": "execute_result"
    }
   ],
   "source": [
    "iter1"
   ]
  },
  {
   "cell_type": "code",
   "execution_count": 13,
   "metadata": {},
   "outputs": [
    {
     "name": "stdout",
     "output_type": "stream",
     "text": [
      "[[  5.   7.   1. ...  10.  14.   5.]\n",
      " [  5.   7.   4. ...  13.  18.   2.]\n",
      " [ 16.  40.   0. ...  64. 160.   0.]\n",
      " ...\n",
      " [  2.   2.   0. ...   2.   2.   2.]\n",
      " [  2.   2.   0. ...   2.   2.   2.]\n",
      " [ 14.  27.  12. ...  52. 105. 111.]]\n"
     ]
    }
   ],
   "source": [
    "feature_matrix_sum2 = np.zeros([1589,9], dtype = float)\n",
    "for node in node_list:\n",
    "    for ngb in Graph.neighbors(node):\n",
    "        feature_matrix_sum2[node] += iter1[ngb]\n",
    "print(feature_matrix_sum2)"
   ]
  },
  {
   "cell_type": "code",
   "execution_count": 14,
   "metadata": {},
   "outputs": [
    {
     "name": "stdout",
     "output_type": "stream",
     "text": [
      "[[ 2.5         3.5         0.5        ...  5.          7.\n",
      "   2.5       ]\n",
      " [ 1.66666667  2.33333333  1.33333333 ...  4.33333333  6.\n",
      "   0.66666667]\n",
      " [ 4.         10.          0.         ... 16.         40.\n",
      "   0.        ]\n",
      " ...\n",
      " [ 2.          2.          0.         ...  2.          2.\n",
      "   2.        ]\n",
      " [ 2.          2.          0.         ...  2.          2.\n",
      "   2.        ]\n",
      " [ 7.         13.5         6.         ... 26.         52.5\n",
      "  55.5       ]]\n"
     ]
    }
   ],
   "source": [
    "feature_matrix_mean2 = np.zeros([1589,9], dtype = float)\n",
    "for node in node_list:\n",
    "    for ngb in Graph.neighbors(node):\n",
    "        feature_matrix_mean2[node] += iter1[ngb]\n",
    "    if Graph.degree(node) == 0:\n",
    "        feature_matrix_mean2[node] = 0\n",
    "    else:\n",
    "        feature_matrix_mean2[node] = feature_matrix_mean2[node]/Graph.degree(node)\n",
    "print(feature_matrix_mean2)"
   ]
  },
  {
   "cell_type": "code",
   "execution_count": 15,
   "metadata": {},
   "outputs": [],
   "source": [
    "iter2 = np.hstack((iter1, feature_matrix_mean2, feature_matrix_sum2))"
   ]
  },
  {
   "cell_type": "code",
   "execution_count": 16,
   "metadata": {},
   "outputs": [
    {
     "data": {
      "text/plain": [
       "array([[  2.,   3.,   1., ...,  10.,  14.,   5.],\n",
       "       [  3.,   4.,   0., ...,  13.,  18.,   2.],\n",
       "       [  4.,  10.,   0., ...,  64., 160.,   0.],\n",
       "       ...,\n",
       "       [  1.,   1.,   1., ...,   2.,   2.,   2.],\n",
       "       [  1.,   1.,   1., ...,   2.,   2.,   2.],\n",
       "       [  2.,   3.,  10., ...,  52., 105., 111.]])"
      ]
     },
     "execution_count": 16,
     "metadata": {},
     "output_type": "execute_result"
    }
   ],
   "source": [
    "iter2"
   ]
  },
  {
   "cell_type": "code",
   "execution_count": 17,
   "metadata": {},
   "outputs": [
    {
     "data": {
      "text/plain": [
       "(1589, 27)"
      ]
     },
     "execution_count": 17,
     "metadata": {},
     "output_type": "execute_result"
    }
   ],
   "source": [
    "iter2.shape"
   ]
  },
  {
   "cell_type": "code",
   "execution_count": 18,
   "metadata": {},
   "outputs": [
    {
     "name": "stdout",
     "output_type": "stream",
     "text": [
      "[(0.9118905251129772, 845), (0.9118905251129772, 844), (0.9118905251129772, 824), (0.9118905251129772, 823), (0.9118905251129772, 822), (0.9118905251129772, 821), (0.9118905251129772, 769), (0.9118905251129772, 768), (0.9118905251129772, 767), (0.9118905251129772, 766), (0.9118905251129772, 726), (0.9118905251129772, 725), (0.9118905251129772, 724), (0.9118905251129772, 723), (0.9118905251129772, 707), (0.9118905251129772, 706), (0.9118905251129772, 705), (0.9118905251129772, 704), (0.9118905251129772, 684), (0.9118905251129772, 683), (0.9118905251129772, 682), (0.9118905251129772, 681), (0.9118905251129772, 661), (0.9118905251129772, 660), (0.9118905251129772, 659), (0.9118905251129772, 658), (0.9118905251129772, 628), (0.9118905251129772, 627), (0.9118905251129772, 626), (0.9118905251129772, 625), (0.9118905251129772, 449), (0.9118905251129772, 448), (0.9118905251129772, 447), (0.9118905251129772, 446), (0.9118905251129772, 400), (0.9118905251129772, 399), (0.9118905251129772, 398), (0.9118905251129772, 397), (0.9118905251129772, 396), (0.9118905251129772, 395), (0.9118905251129772, 394), (0.9118905251129772, 393), (0.9118905251129772, 341), (0.9118905251129772, 340), (0.9118905251129772, 339), (0.9118905251129772, 338), (0.9118905251129772, 335), (0.9118905251129772, 334), (0.9118905251129772, 333), (0.9118905251129772, 332), (0.9118905251129772, 259), (0.9118905251129772, 258), (0.9118905251129772, 231), (0.9118905251129772, 230), (0.9118905251129772, 229), (0.9118905251129772, 228), (0.9118905251129772, 156), (0.9118905251129772, 155), (0.9118905251129772, 154), (0.9118905251129772, 153), (0.9118350940410934, 359), (0.9101609105478724, 462), (0.9101609105478724, 461), (0.9101609105478724, 460), (0.9100991332639707, 126), (0.9097598245955953, 1403), (0.9097598245955953, 1402), (0.9097598245955953, 1401), (0.9097598245955953, 1400), (0.9097598245955953, 1399), (0.9097598245955953, 1150), (0.9097598245955953, 1149), (0.9097598245955953, 1148), (0.9097598245955953, 1147), (0.9097598245955953, 1146), (0.9097598245955953, 998), (0.9097598245955953, 997), (0.9097598245955953, 996), (0.9097598245955953, 995), (0.9097598245955953, 994), (0.9097598245955953, 899), (0.9097598245955953, 898), (0.9097598245955953, 897), (0.9097598245955953, 896), (0.9097598245955953, 895), (0.9097598245955953, 881), (0.9097598245955953, 880), (0.9097598245955953, 879), (0.9097598245955953, 878), (0.9097598245955953, 877), (0.9097598245955953, 471), (0.9097598245955953, 470), (0.9097598245955953, 469), (0.9097598245955953, 468), (0.9097598245955953, 467), (0.9097598245955953, 199), (0.9097598245955953, 198), (0.9097598245955953, 197), (0.9097598245955953, 196), (0.9097598245955953, 195), (0.9097598245955953, 6), (0.9097598245955953, 5), (0.9097598245955953, 4), (0.9097598245955953, 3), (0.9097598245955953, 2), (0.9097211267188189, 1270), (0.9090248161943398, 721), (0.9088587028181813, 698), (0.9088587028181813, 696), (0.9088587028181813, 694), (0.9088587028181813, 693), (0.9088111555021281, 403), (0.9085549283439888, 263), (0.9083304428550331, 984), (0.9079028912111915, 63), (0.9070345691470141, 194), (0.9057146665697903, 62), (0.9054388489819332, 1352), (0.9054388489819332, 1351), (0.9054388489819332, 1350), (0.9054388489819332, 1349), (0.9054276970765106, 773), (0.9054276970765106, 772), (0.9054276970765106, 771), (0.9054276970765106, 770), (0.9053279725908161, 480), (0.9053279725908161, 479), (0.9052273625865214, 1489), (0.9052273625865214, 1488), (0.9052273625865214, 1272), (0.9052273625865214, 1271), (0.9052273625865214, 1084), (0.9052273625865214, 1038), (0.9052273625865214, 1037), (0.9052273625865214, 902), (0.9052273625865214, 901), (0.9052273625865214, 790), (0.9052273625865214, 789), (0.9052273625865214, 753), (0.9052273625865214, 752), (0.9052273625865214, 713), (0.9052273625865214, 712), (0.9052273625865214, 315), (0.9052273625865214, 313), (0.9052273625865214, 176), (0.9052273625865214, 175), (0.9052273625865214, 170), (0.9052273625865214, 169), (0.9052273625865214, 107), (0.9052273625865214, 105)]\n"
     ]
    }
   ],
   "source": [
    "sim_list2 = []\n",
    "for node in node_list:\n",
    "    if node != 9:\n",
    "        sim_list2.append(similarity(iter2[9], iter2[node], node))\n",
    "sim_list2 = sorted(sim_list2, reverse = True)\n",
    "print(sim_list2[300:450])\n",
    "# 973, 537, 415, 496, 25"
   ]
  },
  {
   "cell_type": "code",
   "execution_count": 19,
   "metadata": {},
   "outputs": [
    {
     "data": {
      "image/png": "[encoded data removed]",
      "text/plain": [
       "<Figure size 432x288 with 1 Axes>"
      ]
     },
     "metadata": {
      "needs_background": "light"
     },
     "output_type": "display_data"
    }
   ],
   "source": [
    "sim_list_plot = sorted([x[0] for x in sim_list2])\n",
    "num_bins = 20\n",
    "n, bins, patches = plt.hist(sim_list_plot, num_bins, facecolor='green', alpha=0.75)\n",
    "# 3 groups: 0, 0.6, 0.9"
   ]
  },
  {
   "cell_type": "code",
   "execution_count": 20,
   "metadata": {},
   "outputs": [
    {
     "data": {
      "image/png": "[encoded data removed]",
      "text/plain": [
       "<Figure size 432x288 with 1 Axes>"
      ]
     },
     "metadata": {},
     "output_type": "display_data"
    }
   ],
   "source": [
    "ego1 = nx.ego_graph(Graph, 101, radius = 3, undirected = True)\n",
    "nx.draw(ego1, with_labels = True)"
   ]
  },
  {
   "cell_type": "code",
   "execution_count": 21,
   "metadata": {},
   "outputs": [
    {
     "name": "stderr",
     "output_type": "stream",
     "text": [
      "C:\\Anaconda\\lib\\site-packages\\networkx\\drawing\\nx_pylab.py:579: MatplotlibDeprecationWarning: \n",
      "The iterable function was deprecated in Matplotlib 3.1 and will be removed in 3.3. Use np.iterable instead.\n",
      "  if not cb.iterable(width):\n"
     ]
    },
    {
     "data": {
      "image/png": "[encoded data removed]",
      "text/plain": [
       "<Figure size 432x288 with 1 Axes>"
      ]
     },
     "metadata": {},
     "output_type": "display_data"
    }
   ],
   "source": [
    "ego2 = nx.ego_graph(Graph, 505, radius = 3, undirected = True)\n",
    "nx.draw(ego2, with_labels = True)"
   ]
  },
  {
   "cell_type": "code",
   "execution_count": 22,
   "metadata": {},
   "outputs": [
    {
     "data": {
      "image/png": "[encoded data removed]",
      "text/plain": [
       "<Figure size 432x288 with 1 Axes>"
      ]
     },
     "metadata": {},
     "output_type": "display_data"
    }
   ],
   "source": [
    "ego3 = nx.ego_graph(Graph, 845, radius = 3, undirected = True)\n",
    "nx.draw(ego3, with_labels = True)"
   ]
  },
  {
   "cell_type": "code",
   "execution_count": null,
   "metadata": {},
   "outputs": [],
   "source": []
  }
 ],
 "metadata": {
  "kernelspec": {
   "display_name": "Python 3",
   "language": "python",
   "name": "python3"
  },
  "language_info": {
   "codemirror_mode": {
    "name": "ipython",
    "version": 3
   },
   "file_extension": ".py",
   "mimetype": "text/x-python",
   "name": "python",
   "nbconvert_exporter": "python",
   "pygments_lexer": "ipython3",
   "version": "3.7.5"
  }
 },
 "nbformat": 4,
 "nbformat_minor": 4
}
